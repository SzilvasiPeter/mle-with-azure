{
 "cells": [
  {
   "cell_type": "markdown",
   "metadata": {},
   "source": [
    "# Hyperparameter Tuning using HyperDrive"
   ]
  },
  {
   "cell_type": "code",
   "execution_count": null,
   "metadata": {},
   "outputs": [],
   "source": [
    "%pip install tensorflow"
   ]
  },
  {
   "cell_type": "code",
   "execution_count": null,
   "metadata": {},
   "outputs": [],
   "source": [
    "import azureml.core\n",
    "import tensorflow\n",
    "print(\"SDK version:\", azureml.core.VERSION)\n",
    "print(\"Tensorflow version:\", tensorflow.__version__)"
   ]
  },
  {
   "cell_type": "code",
   "execution_count": null,
   "metadata": {
    "gather": {
     "logged": 1598531914256
    }
   },
   "outputs": [],
   "source": [
    "from azureml.core import Workspace, Experiment\n",
    "\n",
    "ws = Workspace.from_config()\n",
    "experiment_name = 'mnist-hyperdrive-experiment'\n",
    "exp = Experiment(ws, experiment_name)\n",
    "\n",
    "print('Workspace name: ' + ws.name, \n",
    "      'Azure region: ' + ws.location, \n",
    "      'Subscription id: ' + ws.subscription_id, \n",
    "      'Resource group: ' + ws.resource_group, sep='\\n')"
   ]
  },
  {
   "cell_type": "markdown",
   "metadata": {},
   "source": [
    "## Attach an Compute Instance"
   ]
  },
  {
   "cell_type": "code",
   "execution_count": null,
   "metadata": {},
   "outputs": [],
   "source": [
    "from azureml.core.compute import AmlCompute\n",
    "from azureml.core.compute import ComputeTarget\n",
    "from azureml.core.compute_target import ComputeTargetException\n",
    "\n",
    "# Udacity subscription does not allow to create GPU instance\n",
    "cpu_instance = \"mnist-instance\"\n",
    "\n",
    "try:\n",
    "    compute_target = ComputeTarget(workspace=ws, name=cpu_instance)\n",
    "    print('Found existing cluster, use it.')\n",
    "except ComputeTargetException:\n",
    "    compute_config = AmlCompute.provisioning_configuration(vm_size=\"STANDARD_DS3_V2\",\n",
    "                                                           vm_priority='lowpriority',\n",
    "                                                           max_nodes=4)\n",
    "    compute_target = ComputeTarget.create(ws, cpu_instance, compute_config)\n",
    "\n",
    "compute_target.wait_for_completion(show_output=True)"
   ]
  },
  {
   "cell_type": "markdown",
   "metadata": {},
   "source": [
    "## Dataset\n",
    "\n",
    "The MNIST database of handwritten digits, available from this page, has a training set of 60,000 examples, and a test set of 10,000 examples. The digits have been size-normalized and centered in a fixed-size image. The images were centered in a 28x28 image by computing the center of mass of the pixels. The data is stored in a very simple file format designed for storing vectors and multidimensional matrices.\n",
    "\n",
    "Reference: http://yann.lecun.com/exdb/mnist/"
   ]
  },
  {
   "cell_type": "markdown",
   "metadata": {},
   "source": [
    "### Download the Data"
   ]
  },
  {
   "cell_type": "code",
   "execution_count": null,
   "metadata": {},
   "outputs": [],
   "source": [
    "from tensorflow.keras.datasets import mnist\n",
    "\n",
    "(train_images, train_labels), (test_images, test_labels) = mnist.load_data()\n",
    "\n",
    "print(\"Train image shape: {}\", train_images.shape)\n",
    "print(\"Train label shape: {}\", train_labels.shape)"
   ]
  },
  {
   "cell_type": "markdown",
   "metadata": {},
   "source": [
    "### Transform the Data"
   ]
  },
  {
   "cell_type": "code",
   "execution_count": null,
   "metadata": {},
   "outputs": [],
   "source": [
    "import pandas as pd\n",
    "\n",
    "flattened_train_image = train_images.reshape(train_images.shape[0], -1)\n",
    "flattened_test_image = test_images.reshape(test_images.shape[0], -1)\n",
    "\n",
    "train_images_df = pd.DataFrame(flattened_train_image)\n",
    "train_labels_series = pd.Series(train_labels, name=\"labels\")\n",
    "train_df = pd.concat([train_images_df, train_labels_series], axis=1)\n",
    "\n",
    "test_images_df = pd.DataFrame(flattened_test_image)\n",
    "test_labels_series = pd.Series(test_labels, name=\"labels\")\n",
    "test_df = pd.concat([test_images_df, test_labels_series], axis=1)\n",
    "\n",
    "print(train_df.head())\n",
    "print(test_df.head())"
   ]
  },
  {
   "cell_type": "markdown",
   "metadata": {},
   "source": [
    "### Register the Data"
   ]
  },
  {
   "cell_type": "code",
   "execution_count": null,
   "metadata": {
    "gather": {
     "logged": 1598531917374
    },
    "jupyter": {
     "outputs_hidden": false,
     "source_hidden": false
    },
    "nteract": {
     "transient": {
      "deleting": false
     }
    }
   },
   "outputs": [],
   "source": [
    "from azureml.core import Dataset\n",
    "\n",
    "datastore = ws.get_default_datastore()\n",
    "Dataset.Tabular.register_pandas_dataframe(dataframe=train_df, name='mnist-train', target=datastore)\n",
    "Dataset.Tabular.register_pandas_dataframe(dataframe=test_df, name='mnist-test', target=datastore)"
   ]
  },
  {
   "cell_type": "markdown",
   "metadata": {
    "collapsed": true,
    "gather": {
     "logged": 1598531923519
    },
    "jupyter": {
     "outputs_hidden": false,
     "source_hidden": false
    },
    "nteract": {
     "transient": {
      "deleting": false
     }
    }
   },
   "source": [
    "## Hyperdrive Configuration\n",
    "\n",
    "TODO: Explain the model you are using and the reason for chosing the different hyperparameters, termination policy and config settings."
   ]
  },
  {
   "cell_type": "code",
   "execution_count": null,
   "metadata": {
    "gather": {
     "logged": 1598544893076
    },
    "jupyter": {
     "outputs_hidden": false,
     "source_hidden": false
    },
    "nteract": {
     "transient": {
      "deleting": false
     }
    }
   },
   "outputs": [],
   "source": [
    "from azureml.core import ScriptRunConfig, Environment\n",
    "from azureml.train.hyperdrive import HyperDriveConfig, PrimaryMetricGoal\n",
    "from azureml.train.hyperdrive import choice, normal, uniform\n",
    "from azureml.train.hyperdrive.sampling import RandomParameterSampling\n",
    "from azureml.train.hyperdrive.policy import BanditPolicy\n",
    "\n",
    "# # Experiment with from lower to higher dropout\n",
    "# sampling = RandomParameterSampling({\n",
    "#     \"--dropout1\": uniform(0.0, 0.1),\n",
    "#     \"--dropout2\": uniform(0.2, 0.5),\n",
    "#     \"--dropout3\": normal(0.3, 0.7),\n",
    "#     \"--epochs\": choice(10, 20, 40)\n",
    "# })\n",
    "\n",
    "# # Experiment with from higher to lower dropout\n",
    "# sampling = RandomParameterSampling({\n",
    "#     \"--dropout1\": normal(0.3, 0.7),\n",
    "#     \"--dropout1\": uniform(0.0, 0.1),\n",
    "#     \"--dropout3\": uniform(0.2, 0.5),\n",
    "#     \"--epochs\": choice(10, 20, 40)\n",
    "# })\n",
    "\n",
    "# Experiment with the full range of possibilites\n",
    "sampling = RandomParameterSampling({\n",
    "    \"--dropout1\": uniform(0.0, 0.5),\n",
    "    \"--dropout2\": uniform(0.0, 0.5),\n",
    "    \"--epochs\": choice(10, 20, 40)\n",
    "})\n",
    "\n",
    "policy = BanditPolicy(evaluation_interval=2, slack_factor=0.2)\n",
    "tensorflow_env = Environment.from_conda_specification(name='tensorflow-env', file_path='conda_dependencies.yml')\n",
    "script = ScriptRunConfig(source_directory='.',\n",
    "                         script='mnist_train.py',\n",
    "                         compute_target=compute_target,\n",
    "                         environment=tensorflow_env)\n",
    "\n",
    "hyperdrive_config = HyperDriveConfig(run_config=script,\n",
    "                    hyperparameter_sampling=sampling,\n",
    "                    policy=policy,\n",
    "                    primary_metric_name='accuracy',\n",
    "                    primary_metric_goal=PrimaryMetricGoal.MAXIMIZE,\n",
    "                    max_total_runs=10,\n",
    "                    max_concurrent_runs=4)"
   ]
  },
  {
   "cell_type": "code",
   "execution_count": null,
   "metadata": {
    "gather": {
     "logged": 1598544897941
    },
    "jupyter": {
     "outputs_hidden": false,
     "source_hidden": false
    },
    "nteract": {
     "transient": {
      "deleting": false
     }
    }
   },
   "outputs": [],
   "source": [
    "# Submit the hyperdrive run to the experiment\n",
    "hyperdrive_run = exp.submit(hyperdrive_config, show_output=True)"
   ]
  },
  {
   "cell_type": "markdown",
   "metadata": {
    "collapsed": true,
    "gather": {
     "logged": 1598544898497
    },
    "jupyter": {
     "outputs_hidden": false,
     "source_hidden": false
    },
    "nteract": {
     "transient": {
      "deleting": false
     }
    }
   },
   "source": [
    "## Run Details\n",
    "\n",
    "OPTIONAL: Write about the different models trained and their performance. Why do you think some models did better than others?\n",
    "\n",
    "TODO: In the cell below, use the `RunDetails` widget to show the different experiments."
   ]
  },
  {
   "cell_type": "code",
   "execution_count": null,
   "metadata": {
    "gather": {
     "logged": 1598546648408
    },
    "jupyter": {
     "outputs_hidden": false,
     "source_hidden": false
    },
    "nteract": {
     "transient": {
      "deleting": false
     }
    }
   },
   "outputs": [],
   "source": [
    "from azureml.widgets import RunDetails\n",
    "\n",
    "RunDetails(hyperdrive_run).show()\n",
    "hyperdrive_run.wait_for_completion(show_output=True)"
   ]
  },
  {
   "cell_type": "markdown",
   "metadata": {},
   "source": [
    "## Best Model\n",
    "\n",
    "TODO: In the cell below, get the best model from the hyperdrive experiments and display all the properties of the model."
   ]
  },
  {
   "cell_type": "code",
   "execution_count": null,
   "metadata": {
    "gather": {
     "logged": 1598546650307
    },
    "jupyter": {
     "outputs_hidden": false,
     "source_hidden": false
    },
    "nteract": {
     "transient": {
      "deleting": false
     }
    }
   },
   "outputs": [],
   "source": [
    "best_run = hyperdrive_run.get_best_run_by_primary_metric()\n",
    "best_run_metrics = best_run.get_metrics()\n",
    "\n",
    "print(f\"Best run: {best_run}\\n\")\n",
    "print(f\"Best run metrics: {best_run_metrics}\\n\")\n",
    "print(f\"Associated files: {best_run.get_file_names()}\\n\")"
   ]
  },
  {
   "cell_type": "code",
   "execution_count": null,
   "metadata": {
    "gather": {
     "logged": 1598546657829
    },
    "jupyter": {
     "outputs_hidden": false,
     "source_hidden": false
    },
    "nteract": {
     "transient": {
      "deleting": false
     }
    }
   },
   "outputs": [],
   "source": [
    "# TODO: Download the model\n",
    "# Downloading model from the run into the workspace\n",
    "best_run.download_file('models/mnist_model.keras')"
   ]
  },
  {
   "cell_type": "markdown",
   "metadata": {
    "collapsed": true,
    "jupyter": {
     "outputs_hidden": false,
     "source_hidden": false
    },
    "nteract": {
     "transient": {
      "deleting": false
     }
    }
   },
   "source": [
    "## Model Deployment\n",
    "\n",
    "Remember you have to deploy only one of the two models you trained but you still need to register both the models. Perform the steps in the rest of this notebook only if you wish to deploy this model.\n",
    "\n",
    "TODO: In the cell below, register the model, create an inference config and deploy the model as a web service."
   ]
  },
  {
   "cell_type": "code",
   "execution_count": null,
   "metadata": {},
   "outputs": [],
   "source": [
    "model = best_run.register_model(model_name='mnist_model', model_framework=\"TensorFlow\", model_path='outputs/mnist_model.keras')"
   ]
  },
  {
   "cell_type": "markdown",
   "metadata": {},
   "source": [
    "TODO: In the cell below, send a request to the web service you deployed to test it."
   ]
  },
  {
   "cell_type": "markdown",
   "metadata": {},
   "source": [
    "### Deploy an Azure Container Instance Web Service"
   ]
  },
  {
   "cell_type": "code",
   "execution_count": null,
   "metadata": {},
   "outputs": [],
   "source": [
    "from azureml.core.model import Model\n",
    "# Uncomment the following code if you want customize the deployment configuration\n",
    "# from azureml.core.webservice import AciWebservice\n",
    "# aci_config = AciWebservice.deploy_configuration(cpu_cores=1, memory_gb=1)\n",
    "service_name = 'mnist-service'\n",
    "\n",
    "# Use the `deployment_config` argument for custom config\n",
    "service = Model.deploy(ws, service_name, [model], overwrite=True)\n",
    "\n",
    "service.wait_for_deployment(show_output=True)\n",
    "print(service.state)"
   ]
  },
  {
   "cell_type": "markdown",
   "metadata": {},
   "source": [
    "### Test the Web Service Endpoint"
   ]
  },
  {
   "cell_type": "code",
   "execution_count": null,
   "metadata": {},
   "outputs": [],
   "source": [
    "from utils import visualize\n",
    "# TODO: Replace it with the consume script provided by AML studio\n",
    "# Get input data (use the dumped json from the inference script) -> Show as img -> Inference\n",
    "input_data = {\n",
    "    \"input_key\": input_value\n",
    "}\n",
    "\n",
    "# Call the web service endpoint\n",
    "result = service.run(input_data)\n",
    "print(\"Web service response:\", result)\n",
    "\n",
    "# TODO: Get the predicted labels ID\n",
    "predicted_labels = ...\n",
    "# TODO: Get the test labels ID\n",
    "test_labels = ...\n",
    "\n",
    "visualize[result[0]]\n",
    "print(\"Predicted labels: \", predicted_labels[0])\n",
    "print(\"Ground truth: \", test_labels[0])"
   ]
  },
  {
   "cell_type": "markdown",
   "metadata": {},
   "source": [
    "## Delete the Resource\n",
    "TODO: In the cell below, print the logs of the web service and delete the service\n",
    "- webservice\n",
    "- cluster"
   ]
  },
  {
   "cell_type": "code",
   "execution_count": null,
   "metadata": {},
   "outputs": [],
   "source": [
    "service.delete()\n",
    "compute_target.delete()"
   ]
  },
  {
   "cell_type": "markdown",
   "metadata": {},
   "source": [
    "**Submission Checklist**\n",
    "- I have registered the model.\n",
    "- I have deployed the model with the best accuracy as a webservice.\n",
    "- I have tested the webservice by sending a request to the model endpoint.\n",
    "- I have deleted the webservice and shutdown all the computes that I have used.\n",
    "- I have taken a screenshot showing the model endpoint as active.\n",
    "- The project includes a file containing the environment details.\n",
    "\n"
   ]
  },
  {
   "cell_type": "markdown",
   "metadata": {},
   "source": []
  }
 ],
 "metadata": {
  "kernel_info": {
   "name": "python3-azureml"
  },
  "kernelspec": {
   "display_name": "Python 3",
   "language": "python",
   "name": "python3"
  },
  "language_info": {
   "codemirror_mode": {
    "name": "ipython",
    "version": 3
   },
   "file_extension": ".py",
   "mimetype": "text/x-python",
   "name": "python",
   "nbconvert_exporter": "python",
   "pygments_lexer": "ipython3",
   "version": "3.6.5"
  },
  "nteract": {
   "version": "nteract-front-end@1.0.0"
  }
 },
 "nbformat": 4,
 "nbformat_minor": 2
}
